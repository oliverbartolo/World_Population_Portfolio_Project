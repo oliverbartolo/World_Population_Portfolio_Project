{
  "nbformat": 4,
  "nbformat_minor": 0,
  "metadata": {
    "colab": {
      "provenance": [],
      "collapsed_sections": [
        "oEM_kBFfI1qc"
      ]
    },
    "kernelspec": {
      "name": "python3",
      "display_name": "Python 3"
    },
    "language_info": {
      "name": "python"
    }
  },
  "cells": [
    {
      "cell_type": "code",
      "execution_count": 1,
      "metadata": {
        "id": "5tSXiUGrF10D"
      },
      "outputs": [],
      "source": [
        "import pandas as pd\n",
        "import numpy as np\n",
        "import seaborn as sns\n",
        "import matplotlib.pyplot as plt\n"
      ]
    },
    {
      "cell_type": "code",
      "source": [
        "df = pd.read_csv(\"/content/world_population.csv\")"
      ],
      "metadata": {
        "id": "XlLN6tapGB6E"
      },
      "execution_count": 2,
      "outputs": []
    },
    {
      "cell_type": "markdown",
      "source": [
        "## Data Set up"
      ],
      "metadata": {
        "id": "VPK5hCRsGJ-S"
      }
    },
    {
      "cell_type": "code",
      "source": [
        "df"
      ],
      "metadata": {
        "colab": {
          "base_uri": "https://localhost:8080/",
          "height": 513
        },
        "id": "_CSu9PpFGINL",
        "outputId": "db576589-91e8-44c3-8e0a-846555bdd885"
      },
      "execution_count": 5,
      "outputs": [
        {
          "output_type": "execute_result",
          "data": {
            "text/plain": [
              "     Rank CCA3  Country/Territory           Capital Continent  \\\n",
              "0      36  AFG        Afghanistan             Kabul      Asia   \n",
              "1     138  ALB            Albania            Tirana    Europe   \n",
              "2      34  DZA            Algeria           Algiers    Africa   \n",
              "3     213  ASM     American Samoa         Pago Pago   Oceania   \n",
              "4     203  AND            Andorra  Andorra la Vella    Europe   \n",
              "..    ...  ...                ...               ...       ...   \n",
              "229   226  WLF  Wallis and Futuna          Mata-Utu   Oceania   \n",
              "230   172  ESH     Western Sahara          El Aaiún    Africa   \n",
              "231    46  YEM              Yemen             Sanaa      Asia   \n",
              "232    63  ZMB             Zambia            Lusaka    Africa   \n",
              "233    74  ZWE           Zimbabwe            Harare    Africa   \n",
              "\n",
              "     2022 Population  2020 Population  2015 Population  2010 Population  \\\n",
              "0           41128771         38972230         33753499         28189672   \n",
              "1            2842321          2866849          2882481          2913399   \n",
              "2           44903225         43451666         39543154         35856344   \n",
              "3              44273            46189            51368            54849   \n",
              "4              79824            77700            71746            71519   \n",
              "..               ...              ...              ...              ...   \n",
              "229            11572            11655            12182            13142   \n",
              "230           575986           556048           491824           413296   \n",
              "231         33696614         32284046         28516545         24743946   \n",
              "232         20017675         18927715         16248230         13792086   \n",
              "233         16320537         15669666         14154937         12839771   \n",
              "\n",
              "     2000 Population  1990 Population  1980 Population  1970 Population  \\\n",
              "0           19542982         10694796         12486631         10752971   \n",
              "1            3182021          3295066          2941651          2324731   \n",
              "2           30774621         25518074         18739378         13795915   \n",
              "3              58230            47818            32886            27075   \n",
              "4              66097            53569            35611            19860   \n",
              "..               ...              ...              ...              ...   \n",
              "229            14723            13454            11315             9377   \n",
              "230           270375           178529           116775            76371   \n",
              "231         18628700         13375121          9204938          6843607   \n",
              "232          9891136          7686401          5720438          4281671   \n",
              "233         11834676         10113893          7049926          5202918   \n",
              "\n",
              "     Area (km²)  Density (per km²)  Growth Rate  World Population Percentage  \n",
              "0        652230            63.0587       1.0257                         0.52  \n",
              "1         28748            98.8702       0.9957                         0.04  \n",
              "2       2381741            18.8531       1.0164                         0.56  \n",
              "3           199           222.4774       0.9831                         0.00  \n",
              "4           468           170.5641       1.0100                         0.00  \n",
              "..          ...                ...          ...                          ...  \n",
              "229         142            81.4930       0.9953                         0.00  \n",
              "230      266000             2.1654       1.0184                         0.01  \n",
              "231      527968            63.8232       1.0217                         0.42  \n",
              "232      752612            26.5976       1.0280                         0.25  \n",
              "233      390757            41.7665       1.0204                         0.20  \n",
              "\n",
              "[234 rows x 17 columns]"
            ],
            "text/html": [
              "\n",
              "  <div id=\"df-6a999a27-7aa6-4078-99c4-19c6c17766fa\" class=\"colab-df-container\">\n",
              "    <div>\n",
              "<style scoped>\n",
              "    .dataframe tbody tr th:only-of-type {\n",
              "        vertical-align: middle;\n",
              "    }\n",
              "\n",
              "    .dataframe tbody tr th {\n",
              "        vertical-align: top;\n",
              "    }\n",
              "\n",
              "    .dataframe thead th {\n",
              "        text-align: right;\n",
              "    }\n",
              "</style>\n",
              "<table border=\"1\" class=\"dataframe\">\n",
              "  <thead>\n",
              "    <tr style=\"text-align: right;\">\n",
              "      <th></th>\n",
              "      <th>Rank</th>\n",
              "      <th>CCA3</th>\n",
              "      <th>Country/Territory</th>\n",
              "      <th>Capital</th>\n",
              "      <th>Continent</th>\n",
              "      <th>2022 Population</th>\n",
              "      <th>2020 Population</th>\n",
              "      <th>2015 Population</th>\n",
              "      <th>2010 Population</th>\n",
              "      <th>2000 Population</th>\n",
              "      <th>1990 Population</th>\n",
              "      <th>1980 Population</th>\n",
              "      <th>1970 Population</th>\n",
              "      <th>Area (km²)</th>\n",
              "      <th>Density (per km²)</th>\n",
              "      <th>Growth Rate</th>\n",
              "      <th>World Population Percentage</th>\n",
              "    </tr>\n",
              "  </thead>\n",
              "  <tbody>\n",
              "    <tr>\n",
              "      <th>0</th>\n",
              "      <td>36</td>\n",
              "      <td>AFG</td>\n",
              "      <td>Afghanistan</td>\n",
              "      <td>Kabul</td>\n",
              "      <td>Asia</td>\n",
              "      <td>41128771</td>\n",
              "      <td>38972230</td>\n",
              "      <td>33753499</td>\n",
              "      <td>28189672</td>\n",
              "      <td>19542982</td>\n",
              "      <td>10694796</td>\n",
              "      <td>12486631</td>\n",
              "      <td>10752971</td>\n",
              "      <td>652230</td>\n",
              "      <td>63.0587</td>\n",
              "      <td>1.0257</td>\n",
              "      <td>0.52</td>\n",
              "    </tr>\n",
              "    <tr>\n",
              "      <th>1</th>\n",
              "      <td>138</td>\n",
              "      <td>ALB</td>\n",
              "      <td>Albania</td>\n",
              "      <td>Tirana</td>\n",
              "      <td>Europe</td>\n",
              "      <td>2842321</td>\n",
              "      <td>2866849</td>\n",
              "      <td>2882481</td>\n",
              "      <td>2913399</td>\n",
              "      <td>3182021</td>\n",
              "      <td>3295066</td>\n",
              "      <td>2941651</td>\n",
              "      <td>2324731</td>\n",
              "      <td>28748</td>\n",
              "      <td>98.8702</td>\n",
              "      <td>0.9957</td>\n",
              "      <td>0.04</td>\n",
              "    </tr>\n",
              "    <tr>\n",
              "      <th>2</th>\n",
              "      <td>34</td>\n",
              "      <td>DZA</td>\n",
              "      <td>Algeria</td>\n",
              "      <td>Algiers</td>\n",
              "      <td>Africa</td>\n",
              "      <td>44903225</td>\n",
              "      <td>43451666</td>\n",
              "      <td>39543154</td>\n",
              "      <td>35856344</td>\n",
              "      <td>30774621</td>\n",
              "      <td>25518074</td>\n",
              "      <td>18739378</td>\n",
              "      <td>13795915</td>\n",
              "      <td>2381741</td>\n",
              "      <td>18.8531</td>\n",
              "      <td>1.0164</td>\n",
              "      <td>0.56</td>\n",
              "    </tr>\n",
              "    <tr>\n",
              "      <th>3</th>\n",
              "      <td>213</td>\n",
              "      <td>ASM</td>\n",
              "      <td>American Samoa</td>\n",
              "      <td>Pago Pago</td>\n",
              "      <td>Oceania</td>\n",
              "      <td>44273</td>\n",
              "      <td>46189</td>\n",
              "      <td>51368</td>\n",
              "      <td>54849</td>\n",
              "      <td>58230</td>\n",
              "      <td>47818</td>\n",
              "      <td>32886</td>\n",
              "      <td>27075</td>\n",
              "      <td>199</td>\n",
              "      <td>222.4774</td>\n",
              "      <td>0.9831</td>\n",
              "      <td>0.00</td>\n",
              "    </tr>\n",
              "    <tr>\n",
              "      <th>4</th>\n",
              "      <td>203</td>\n",
              "      <td>AND</td>\n",
              "      <td>Andorra</td>\n",
              "      <td>Andorra la Vella</td>\n",
              "      <td>Europe</td>\n",
              "      <td>79824</td>\n",
              "      <td>77700</td>\n",
              "      <td>71746</td>\n",
              "      <td>71519</td>\n",
              "      <td>66097</td>\n",
              "      <td>53569</td>\n",
              "      <td>35611</td>\n",
              "      <td>19860</td>\n",
              "      <td>468</td>\n",
              "      <td>170.5641</td>\n",
              "      <td>1.0100</td>\n",
              "      <td>0.00</td>\n",
              "    </tr>\n",
              "    <tr>\n",
              "      <th>...</th>\n",
              "      <td>...</td>\n",
              "      <td>...</td>\n",
              "      <td>...</td>\n",
              "      <td>...</td>\n",
              "      <td>...</td>\n",
              "      <td>...</td>\n",
              "      <td>...</td>\n",
              "      <td>...</td>\n",
              "      <td>...</td>\n",
              "      <td>...</td>\n",
              "      <td>...</td>\n",
              "      <td>...</td>\n",
              "      <td>...</td>\n",
              "      <td>...</td>\n",
              "      <td>...</td>\n",
              "      <td>...</td>\n",
              "      <td>...</td>\n",
              "    </tr>\n",
              "    <tr>\n",
              "      <th>229</th>\n",
              "      <td>226</td>\n",
              "      <td>WLF</td>\n",
              "      <td>Wallis and Futuna</td>\n",
              "      <td>Mata-Utu</td>\n",
              "      <td>Oceania</td>\n",
              "      <td>11572</td>\n",
              "      <td>11655</td>\n",
              "      <td>12182</td>\n",
              "      <td>13142</td>\n",
              "      <td>14723</td>\n",
              "      <td>13454</td>\n",
              "      <td>11315</td>\n",
              "      <td>9377</td>\n",
              "      <td>142</td>\n",
              "      <td>81.4930</td>\n",
              "      <td>0.9953</td>\n",
              "      <td>0.00</td>\n",
              "    </tr>\n",
              "    <tr>\n",
              "      <th>230</th>\n",
              "      <td>172</td>\n",
              "      <td>ESH</td>\n",
              "      <td>Western Sahara</td>\n",
              "      <td>El Aaiún</td>\n",
              "      <td>Africa</td>\n",
              "      <td>575986</td>\n",
              "      <td>556048</td>\n",
              "      <td>491824</td>\n",
              "      <td>413296</td>\n",
              "      <td>270375</td>\n",
              "      <td>178529</td>\n",
              "      <td>116775</td>\n",
              "      <td>76371</td>\n",
              "      <td>266000</td>\n",
              "      <td>2.1654</td>\n",
              "      <td>1.0184</td>\n",
              "      <td>0.01</td>\n",
              "    </tr>\n",
              "    <tr>\n",
              "      <th>231</th>\n",
              "      <td>46</td>\n",
              "      <td>YEM</td>\n",
              "      <td>Yemen</td>\n",
              "      <td>Sanaa</td>\n",
              "      <td>Asia</td>\n",
              "      <td>33696614</td>\n",
              "      <td>32284046</td>\n",
              "      <td>28516545</td>\n",
              "      <td>24743946</td>\n",
              "      <td>18628700</td>\n",
              "      <td>13375121</td>\n",
              "      <td>9204938</td>\n",
              "      <td>6843607</td>\n",
              "      <td>527968</td>\n",
              "      <td>63.8232</td>\n",
              "      <td>1.0217</td>\n",
              "      <td>0.42</td>\n",
              "    </tr>\n",
              "    <tr>\n",
              "      <th>232</th>\n",
              "      <td>63</td>\n",
              "      <td>ZMB</td>\n",
              "      <td>Zambia</td>\n",
              "      <td>Lusaka</td>\n",
              "      <td>Africa</td>\n",
              "      <td>20017675</td>\n",
              "      <td>18927715</td>\n",
              "      <td>16248230</td>\n",
              "      <td>13792086</td>\n",
              "      <td>9891136</td>\n",
              "      <td>7686401</td>\n",
              "      <td>5720438</td>\n",
              "      <td>4281671</td>\n",
              "      <td>752612</td>\n",
              "      <td>26.5976</td>\n",
              "      <td>1.0280</td>\n",
              "      <td>0.25</td>\n",
              "    </tr>\n",
              "    <tr>\n",
              "      <th>233</th>\n",
              "      <td>74</td>\n",
              "      <td>ZWE</td>\n",
              "      <td>Zimbabwe</td>\n",
              "      <td>Harare</td>\n",
              "      <td>Africa</td>\n",
              "      <td>16320537</td>\n",
              "      <td>15669666</td>\n",
              "      <td>14154937</td>\n",
              "      <td>12839771</td>\n",
              "      <td>11834676</td>\n",
              "      <td>10113893</td>\n",
              "      <td>7049926</td>\n",
              "      <td>5202918</td>\n",
              "      <td>390757</td>\n",
              "      <td>41.7665</td>\n",
              "      <td>1.0204</td>\n",
              "      <td>0.20</td>\n",
              "    </tr>\n",
              "  </tbody>\n",
              "</table>\n",
              "<p>234 rows × 17 columns</p>\n",
              "</div>\n",
              "    <div class=\"colab-df-buttons\">\n",
              "\n",
              "  <div class=\"colab-df-container\">\n",
              "    <button class=\"colab-df-convert\" onclick=\"convertToInteractive('df-6a999a27-7aa6-4078-99c4-19c6c17766fa')\"\n",
              "            title=\"Convert this dataframe to an interactive table.\"\n",
              "            style=\"display:none;\">\n",
              "\n",
              "  <svg xmlns=\"http://www.w3.org/2000/svg\" height=\"24px\" viewBox=\"0 -960 960 960\">\n",
              "    <path d=\"M120-120v-720h720v720H120Zm60-500h600v-160H180v160Zm220 220h160v-160H400v160Zm0 220h160v-160H400v160ZM180-400h160v-160H180v160Zm440 0h160v-160H620v160ZM180-180h160v-160H180v160Zm440 0h160v-160H620v160Z\"/>\n",
              "  </svg>\n",
              "    </button>\n",
              "\n",
              "  <style>\n",
              "    .colab-df-container {\n",
              "      display:flex;\n",
              "      gap: 12px;\n",
              "    }\n",
              "\n",
              "    .colab-df-convert {\n",
              "      background-color: #E8F0FE;\n",
              "      border: none;\n",
              "      border-radius: 50%;\n",
              "      cursor: pointer;\n",
              "      display: none;\n",
              "      fill: #1967D2;\n",
              "      height: 32px;\n",
              "      padding: 0 0 0 0;\n",
              "      width: 32px;\n",
              "    }\n",
              "\n",
              "    .colab-df-convert:hover {\n",
              "      background-color: #E2EBFA;\n",
              "      box-shadow: 0px 1px 2px rgba(60, 64, 67, 0.3), 0px 1px 3px 1px rgba(60, 64, 67, 0.15);\n",
              "      fill: #174EA6;\n",
              "    }\n",
              "\n",
              "    .colab-df-buttons div {\n",
              "      margin-bottom: 4px;\n",
              "    }\n",
              "\n",
              "    [theme=dark] .colab-df-convert {\n",
              "      background-color: #3B4455;\n",
              "      fill: #D2E3FC;\n",
              "    }\n",
              "\n",
              "    [theme=dark] .colab-df-convert:hover {\n",
              "      background-color: #434B5C;\n",
              "      box-shadow: 0px 1px 3px 1px rgba(0, 0, 0, 0.15);\n",
              "      filter: drop-shadow(0px 1px 2px rgba(0, 0, 0, 0.3));\n",
              "      fill: #FFFFFF;\n",
              "    }\n",
              "  </style>\n",
              "\n",
              "    <script>\n",
              "      const buttonEl =\n",
              "        document.querySelector('#df-6a999a27-7aa6-4078-99c4-19c6c17766fa button.colab-df-convert');\n",
              "      buttonEl.style.display =\n",
              "        google.colab.kernel.accessAllowed ? 'block' : 'none';\n",
              "\n",
              "      async function convertToInteractive(key) {\n",
              "        const element = document.querySelector('#df-6a999a27-7aa6-4078-99c4-19c6c17766fa');\n",
              "        const dataTable =\n",
              "          await google.colab.kernel.invokeFunction('convertToInteractive',\n",
              "                                                    [key], {});\n",
              "        if (!dataTable) return;\n",
              "\n",
              "        const docLinkHtml = 'Like what you see? Visit the ' +\n",
              "          '<a target=\"_blank\" href=https://colab.research.google.com/notebooks/data_table.ipynb>data table notebook</a>'\n",
              "          + ' to learn more about interactive tables.';\n",
              "        element.innerHTML = '';\n",
              "        dataTable['output_type'] = 'display_data';\n",
              "        await google.colab.output.renderOutput(dataTable, element);\n",
              "        const docLink = document.createElement('div');\n",
              "        docLink.innerHTML = docLinkHtml;\n",
              "        element.appendChild(docLink);\n",
              "      }\n",
              "    </script>\n",
              "  </div>\n",
              "\n",
              "\n",
              "<div id=\"df-6d148a1e-1bb1-4bcc-b842-fb732c553898\">\n",
              "  <button class=\"colab-df-quickchart\" onclick=\"quickchart('df-6d148a1e-1bb1-4bcc-b842-fb732c553898')\"\n",
              "            title=\"Suggest charts\"\n",
              "            style=\"display:none;\">\n",
              "\n",
              "<svg xmlns=\"http://www.w3.org/2000/svg\" height=\"24px\"viewBox=\"0 0 24 24\"\n",
              "     width=\"24px\">\n",
              "    <g>\n",
              "        <path d=\"M19 3H5c-1.1 0-2 .9-2 2v14c0 1.1.9 2 2 2h14c1.1 0 2-.9 2-2V5c0-1.1-.9-2-2-2zM9 17H7v-7h2v7zm4 0h-2V7h2v10zm4 0h-2v-4h2v4z\"/>\n",
              "    </g>\n",
              "</svg>\n",
              "  </button>\n",
              "\n",
              "<style>\n",
              "  .colab-df-quickchart {\n",
              "      --bg-color: #E8F0FE;\n",
              "      --fill-color: #1967D2;\n",
              "      --hover-bg-color: #E2EBFA;\n",
              "      --hover-fill-color: #174EA6;\n",
              "      --disabled-fill-color: #AAA;\n",
              "      --disabled-bg-color: #DDD;\n",
              "  }\n",
              "\n",
              "  [theme=dark] .colab-df-quickchart {\n",
              "      --bg-color: #3B4455;\n",
              "      --fill-color: #D2E3FC;\n",
              "      --hover-bg-color: #434B5C;\n",
              "      --hover-fill-color: #FFFFFF;\n",
              "      --disabled-bg-color: #3B4455;\n",
              "      --disabled-fill-color: #666;\n",
              "  }\n",
              "\n",
              "  .colab-df-quickchart {\n",
              "    background-color: var(--bg-color);\n",
              "    border: none;\n",
              "    border-radius: 50%;\n",
              "    cursor: pointer;\n",
              "    display: none;\n",
              "    fill: var(--fill-color);\n",
              "    height: 32px;\n",
              "    padding: 0;\n",
              "    width: 32px;\n",
              "  }\n",
              "\n",
              "  .colab-df-quickchart:hover {\n",
              "    background-color: var(--hover-bg-color);\n",
              "    box-shadow: 0 1px 2px rgba(60, 64, 67, 0.3), 0 1px 3px 1px rgba(60, 64, 67, 0.15);\n",
              "    fill: var(--button-hover-fill-color);\n",
              "  }\n",
              "\n",
              "  .colab-df-quickchart-complete:disabled,\n",
              "  .colab-df-quickchart-complete:disabled:hover {\n",
              "    background-color: var(--disabled-bg-color);\n",
              "    fill: var(--disabled-fill-color);\n",
              "    box-shadow: none;\n",
              "  }\n",
              "\n",
              "  .colab-df-spinner {\n",
              "    border: 2px solid var(--fill-color);\n",
              "    border-color: transparent;\n",
              "    border-bottom-color: var(--fill-color);\n",
              "    animation:\n",
              "      spin 1s steps(1) infinite;\n",
              "  }\n",
              "\n",
              "  @keyframes spin {\n",
              "    0% {\n",
              "      border-color: transparent;\n",
              "      border-bottom-color: var(--fill-color);\n",
              "      border-left-color: var(--fill-color);\n",
              "    }\n",
              "    20% {\n",
              "      border-color: transparent;\n",
              "      border-left-color: var(--fill-color);\n",
              "      border-top-color: var(--fill-color);\n",
              "    }\n",
              "    30% {\n",
              "      border-color: transparent;\n",
              "      border-left-color: var(--fill-color);\n",
              "      border-top-color: var(--fill-color);\n",
              "      border-right-color: var(--fill-color);\n",
              "    }\n",
              "    40% {\n",
              "      border-color: transparent;\n",
              "      border-right-color: var(--fill-color);\n",
              "      border-top-color: var(--fill-color);\n",
              "    }\n",
              "    60% {\n",
              "      border-color: transparent;\n",
              "      border-right-color: var(--fill-color);\n",
              "    }\n",
              "    80% {\n",
              "      border-color: transparent;\n",
              "      border-right-color: var(--fill-color);\n",
              "      border-bottom-color: var(--fill-color);\n",
              "    }\n",
              "    90% {\n",
              "      border-color: transparent;\n",
              "      border-bottom-color: var(--fill-color);\n",
              "    }\n",
              "  }\n",
              "</style>\n",
              "\n",
              "  <script>\n",
              "    async function quickchart(key) {\n",
              "      const quickchartButtonEl =\n",
              "        document.querySelector('#' + key + ' button');\n",
              "      quickchartButtonEl.disabled = true;  // To prevent multiple clicks.\n",
              "      quickchartButtonEl.classList.add('colab-df-spinner');\n",
              "      try {\n",
              "        const charts = await google.colab.kernel.invokeFunction(\n",
              "            'suggestCharts', [key], {});\n",
              "      } catch (error) {\n",
              "        console.error('Error during call to suggestCharts:', error);\n",
              "      }\n",
              "      quickchartButtonEl.classList.remove('colab-df-spinner');\n",
              "      quickchartButtonEl.classList.add('colab-df-quickchart-complete');\n",
              "    }\n",
              "    (() => {\n",
              "      let quickchartButtonEl =\n",
              "        document.querySelector('#df-6d148a1e-1bb1-4bcc-b842-fb732c553898 button');\n",
              "      quickchartButtonEl.style.display =\n",
              "        google.colab.kernel.accessAllowed ? 'block' : 'none';\n",
              "    })();\n",
              "  </script>\n",
              "</div>\n",
              "    </div>\n",
              "  </div>\n"
            ]
          },
          "metadata": {},
          "execution_count": 5
        }
      ]
    },
    {
      "cell_type": "code",
      "source": [
        "df.info()"
      ],
      "metadata": {
        "colab": {
          "base_uri": "https://localhost:8080/"
        },
        "id": "WcalcrNsGavH",
        "outputId": "1b210bba-c5fd-4e27-8fd1-1b8df5a24d22"
      },
      "execution_count": 6,
      "outputs": [
        {
          "output_type": "stream",
          "name": "stdout",
          "text": [
            "<class 'pandas.core.frame.DataFrame'>\n",
            "RangeIndex: 234 entries, 0 to 233\n",
            "Data columns (total 17 columns):\n",
            " #   Column                       Non-Null Count  Dtype  \n",
            "---  ------                       --------------  -----  \n",
            " 0   Rank                         234 non-null    int64  \n",
            " 1   CCA3                         234 non-null    object \n",
            " 2   Country/Territory            234 non-null    object \n",
            " 3   Capital                      234 non-null    object \n",
            " 4   Continent                    234 non-null    object \n",
            " 5   2022 Population              234 non-null    int64  \n",
            " 6   2020 Population              234 non-null    int64  \n",
            " 7   2015 Population              234 non-null    int64  \n",
            " 8   2010 Population              234 non-null    int64  \n",
            " 9   2000 Population              234 non-null    int64  \n",
            " 10  1990 Population              234 non-null    int64  \n",
            " 11  1980 Population              234 non-null    int64  \n",
            " 12  1970 Population              234 non-null    int64  \n",
            " 13  Area (km²)                   234 non-null    int64  \n",
            " 14  Density (per km²)            234 non-null    float64\n",
            " 15  Growth Rate                  234 non-null    float64\n",
            " 16  World Population Percentage  234 non-null    float64\n",
            "dtypes: float64(3), int64(10), object(4)\n",
            "memory usage: 31.2+ KB\n"
          ]
        }
      ]
    },
    {
      "cell_type": "code",
      "source": [
        "df.isnull().sum()"
      ],
      "metadata": {
        "colab": {
          "base_uri": "https://localhost:8080/"
        },
        "id": "kMfFcvI5IuEL",
        "outputId": "746b4bc6-48cc-4b1c-8c90-7a6a32cd4a85"
      },
      "execution_count": 7,
      "outputs": [
        {
          "output_type": "execute_result",
          "data": {
            "text/plain": [
              "Rank                           0\n",
              "CCA3                           0\n",
              "Country/Territory              0\n",
              "Capital                        0\n",
              "Continent                      0\n",
              "2022 Population                0\n",
              "2020 Population                0\n",
              "2015 Population                0\n",
              "2010 Population                0\n",
              "2000 Population                0\n",
              "1990 Population                0\n",
              "1980 Population                0\n",
              "1970 Population                0\n",
              "Area (km²)                     0\n",
              "Density (per km²)              0\n",
              "Growth Rate                    0\n",
              "World Population Percentage    0\n",
              "dtype: int64"
            ]
          },
          "metadata": {},
          "execution_count": 7
        }
      ]
    },
    {
      "cell_type": "code",
      "source": [
        "df.duplicated().sum()"
      ],
      "metadata": {
        "colab": {
          "base_uri": "https://localhost:8080/"
        },
        "id": "63Pnbs9AIxhH",
        "outputId": "6d940254-753a-453a-c3bd-380f0e3886e6"
      },
      "execution_count": 8,
      "outputs": [
        {
          "output_type": "execute_result",
          "data": {
            "text/plain": [
              "0"
            ]
          },
          "metadata": {},
          "execution_count": 8
        }
      ]
    },
    {
      "cell_type": "markdown",
      "source": [
        "## Data Analysis"
      ],
      "metadata": {
        "id": "oEM_kBFfI1qc"
      }
    },
    {
      "cell_type": "code",
      "source": [
        "num_countries = len(df[\"Country/Territory\"].unique())\n",
        "countries_list = df[\"Country/Territory\"].unique()\n",
        "num_countries"
      ],
      "metadata": {
        "colab": {
          "base_uri": "https://localhost:8080/"
        },
        "id": "AdsMTeZdJLYe",
        "outputId": "ffc94bb4-47bc-42b4-96cc-81ea006bd765"
      },
      "execution_count": 17,
      "outputs": [
        {
          "output_type": "execute_result",
          "data": {
            "text/plain": [
              "234"
            ]
          },
          "metadata": {},
          "execution_count": 17
        }
      ]
    },
    {
      "cell_type": "code",
      "source": [
        "continents = df[\"Continent\"].unique()\n",
        "continents"
      ],
      "metadata": {
        "colab": {
          "base_uri": "https://localhost:8080/"
        },
        "id": "ZFR0LkvNMZU8",
        "outputId": "3a21189b-08da-4f59-8e61-98b24fc52f0f"
      },
      "execution_count": 18,
      "outputs": [
        {
          "output_type": "execute_result",
          "data": {
            "text/plain": [
              "array(['Asia', 'Europe', 'Africa', 'Oceania', 'North America',\n",
              "       'South America'], dtype=object)"
            ]
          },
          "metadata": {},
          "execution_count": 18
        }
      ]
    },
    {
      "cell_type": "code",
      "source": [
        "most_pop_country1970 = df.loc[df['1970 Population'].idxmax()]['Country/Territory']\n",
        "most_pop_country1970"
      ],
      "metadata": {
        "colab": {
          "base_uri": "https://localhost:8080/",
          "height": 35
        },
        "id": "7ZZDSM__MmzD",
        "outputId": "e58556ff-7d00-4b7a-d636-dab3f55597e5"
      },
      "execution_count": 21,
      "outputs": [
        {
          "output_type": "execute_result",
          "data": {
            "text/plain": [
              "'China'"
            ],
            "application/vnd.google.colaboratory.intrinsic+json": {
              "type": "string"
            }
          },
          "metadata": {},
          "execution_count": 21
        }
      ]
    },
    {
      "cell_type": "code",
      "source": [
        "population_columns = ['2022 Population', '2020 Population', '2015 Population', '2010 Population',\n",
        "                       '2000 Population', '1990 Population', '1980 Population', '1970 Population']\n",
        "\n",
        "for column in population_columns:\n",
        "    top_5_countries = df.nlargest(5, column)[['Country/Territory', column]]\n",
        "    print(f\"\\nTop 5 most populated countries in {column}:\")\n",
        "    print(top_5_countries)\n"
      ],
      "metadata": {
        "colab": {
          "base_uri": "https://localhost:8080/"
        },
        "id": "OzqmRW-OPOhb",
        "outputId": "88647993-cf73-4608-c96b-c888881ae613"
      },
      "execution_count": 27,
      "outputs": [
        {
          "output_type": "stream",
          "name": "stdout",
          "text": [
            "\n",
            "Top 5 most populated countries in 2022 Population:\n",
            "    Country/Territory  2022 Population\n",
            "41              China       1425887337\n",
            "92              India       1417173173\n",
            "221     United States        338289857\n",
            "93          Indonesia        275501339\n",
            "156          Pakistan        235824862\n",
            "\n",
            "Top 5 most populated countries in 2020 Population:\n",
            "    Country/Territory  2020 Population\n",
            "41              China       1424929781\n",
            "92              India       1396387127\n",
            "221     United States        335942003\n",
            "93          Indonesia        271857970\n",
            "156          Pakistan        227196741\n",
            "\n",
            "Top 5 most populated countries in 2015 Population:\n",
            "    Country/Territory  2015 Population\n",
            "41              China       1393715448\n",
            "92              India       1322866505\n",
            "221     United States        324607776\n",
            "93          Indonesia        259091970\n",
            "156          Pakistan        210969298\n",
            "\n",
            "Top 5 most populated countries in 2010 Population:\n",
            "    Country/Territory  2010 Population\n",
            "41              China       1348191368\n",
            "92              India       1240613620\n",
            "221     United States        311182845\n",
            "93          Indonesia        244016173\n",
            "27             Brazil        196353492\n",
            "\n",
            "Top 5 most populated countries in 2000 Population:\n",
            "    Country/Territory  2000 Population\n",
            "41              China       1264099069\n",
            "92              India       1059633675\n",
            "221     United States        282398554\n",
            "93          Indonesia        214072421\n",
            "27             Brazil        175873720\n",
            "\n",
            "Top 5 most populated countries in 1990 Population:\n",
            "    Country/Territory  1990 Population\n",
            "41              China       1153704252\n",
            "92              India        870452165\n",
            "221     United States        248083732\n",
            "93          Indonesia        182159874\n",
            "27             Brazil        150706446\n",
            "\n",
            "Top 5 most populated countries in 1980 Population:\n",
            "    Country/Territory  1980 Population\n",
            "41              China        982372466\n",
            "92              India        696828385\n",
            "221     United States        223140018\n",
            "93          Indonesia        148177096\n",
            "171            Russia        138257420\n",
            "\n",
            "Top 5 most populated countries in 1970 Population:\n",
            "    Country/Territory  1970 Population\n",
            "41              China        822534450\n",
            "92              India        557501301\n",
            "221     United States        200328340\n",
            "171            Russia        130093010\n",
            "93          Indonesia        115228394\n"
          ]
        }
      ]
    },
    {
      "cell_type": "code",
      "source": [
        "fig, axes = plt.subplots(nrows=4, ncols=2, figsize=(12, 16))\n",
        "fig.suptitle('Top 5 Most Populated Countries for Each Year')\n",
        "\n",
        "\n",
        "axes = axes.flatten()\n",
        "\n",
        "\n",
        "for i, column in enumerate(population_columns):\n",
        "    top_5_countries = df.nlargest(5, column)[['Country/Territory', column]]\n",
        "    top_5_countries.plot(kind='bar', x='Country/Territory', y=column, ax=axes[i], legend=False)\n",
        "    axes[i].set_title(f'Top 5 in {column}')\n",
        "    axes[i].set_xlabel('Country')\n",
        "    axes[i].set_ylabel('Population')\n",
        "\n",
        "\n",
        "plt.tight_layout(rect=[0, 0, 1, 0.96])\n",
        "plt.show()\n"
      ],
      "metadata": {
        "colab": {
          "base_uri": "https://localhost:8080/",
          "height": 1000
        },
        "id": "BpAzppTiP3mN",
        "outputId": "3116ddcd-41c5-4281-a873-1bf624c11789"
      },
      "execution_count": 29,
      "outputs": [
        {
          "output_type": "display_data",
          "data": {
            "text/plain": [
              "<Figure size 1200x1600 with 8 Axes>"
            ],
            "image/png": "[encoded data removed]"
          },
          "metadata": {}
        }
      ]
    },
    {
      "cell_type": "code",
      "source": [
        "for column in population_columns:\n",
        "    continent_population = df.groupby('Continent')[column].sum()\n",
        "\n",
        "\n",
        "    continents = continent_population.nlargest()\n",
        "    print(continents)\n"
      ],
      "metadata": {
        "colab": {
          "base_uri": "https://localhost:8080/"
        },
        "id": "qMvCFAr_QSC2",
        "outputId": "e1162c9c-3b38-4414-c3f6-87eb5dee124b"
      },
      "execution_count": 31,
      "outputs": [
        {
          "output_type": "stream",
          "name": "stdout",
          "text": [
            "Continent\n",
            "Asia             4721383274\n",
            "Africa           1426730932\n",
            "Europe            743147538\n",
            "North America     600296136\n",
            "South America     436816608\n",
            "Name: 2022 Population, dtype: int64\n",
            "Continent\n",
            "Asia             4663086535\n",
            "Africa           1360671810\n",
            "Europe            745792196\n",
            "North America     594236593\n",
            "South America     431530043\n",
            "Name: 2020 Population, dtype: int64\n",
            "Continent\n",
            "Asia             4458250182\n",
            "Africa           1201102442\n",
            "Europe            741535608\n",
            "North America     570383850\n",
            "South America     413134396\n",
            "Name: 2015 Population, dtype: int64\n",
            "Continent\n",
            "Asia             4220041327\n",
            "Africa           1055228072\n",
            "Europe            735613934\n",
            "North America     542720651\n",
            "South America     393078250\n",
            "Name: 2010 Population, dtype: int64\n",
            "Continent\n",
            "Asia             3735089604\n",
            "Africa            818946032\n",
            "Europe            726093423\n",
            "North America     486069584\n",
            "South America     349634282\n",
            "Name: 2000 Population, dtype: int64\n",
            "Continent\n",
            "Asia             3210563577\n",
            "Europe            720320797\n",
            "Africa            638150629\n",
            "North America     421266425\n",
            "South America     297146415\n",
            "Name: 1990 Population, dtype: int64\n",
            "Continent\n",
            "Asia             2635334228\n",
            "Europe            692527159\n",
            "Africa            481536377\n",
            "North America     368293361\n",
            "South America     241789006\n",
            "Name: 1980 Population, dtype: int64\n",
            "Continent\n",
            "Asia             2144906290\n",
            "Europe            655923991\n",
            "Africa            365444348\n",
            "North America     315434606\n",
            "South America     192947156\n",
            "Name: 1970 Population, dtype: int64\n"
          ]
        }
      ]
    },
    {
      "cell_type": "code",
      "source": [
        "df = df.rename(columns={'Density (per km²)': 'Density'})"
      ],
      "metadata": {
        "id": "1vMG_mAPfw5c"
      },
      "execution_count": 42,
      "outputs": []
    },
    {
      "cell_type": "code",
      "source": [
        "import pandas as pd\n",
        "\n",
        "population_columns = ['2022 Population', '2020 Population', '2015 Population', '2010 Population',\n",
        "                       '2000 Population', '1990 Population', '1980 Population', '1970 Population']\n",
        "\n",
        "population_columns_with_continent = ['Continent'] + population_columns\n",
        "\n",
        "continent_population = df[population_columns_with_continent].groupby('Continent').sum()\n",
        "\n",
        "\n",
        "print(\"Population for each continent:\")\n",
        "print(continent_population)\n"
      ],
      "metadata": {
        "colab": {
          "base_uri": "https://localhost:8080/"
        },
        "id": "vJcBAGEJmDAc",
        "outputId": "e1767583-7fb5-4e6d-802c-7ef7db56e4d5"
      },
      "execution_count": 44,
      "outputs": [
        {
          "output_type": "stream",
          "name": "stdout",
          "text": [
            "Population for each continent:\n",
            "               2022 Population  2020 Population  2015 Population  \\\n",
            "Continent                                                          \n",
            "Africa              1426730932       1360671810       1201102442   \n",
            "Asia                4721383274       4663086535       4458250182   \n",
            "Europe               743147538        745792196        741535608   \n",
            "North America        600296136        594236593        570383850   \n",
            "Oceania               45038554         43933426         40403283   \n",
            "South America        436816608        431530043        413134396   \n",
            "\n",
            "               2010 Population  2000 Population  1990 Population  \\\n",
            "Continent                                                          \n",
            "Africa              1055228072        818946032        638150629   \n",
            "Asia                4220041327       3735089604       3210563577   \n",
            "Europe               735613934        726093423        720320797   \n",
            "North America        542720651        486069584        421266425   \n",
            "Oceania               37102764         31222778         26743822   \n",
            "South America        393078250        349634282        297146415   \n",
            "\n",
            "               1980 Population  1970 Population  \n",
            "Continent                                        \n",
            "Africa               481536377        365444348  \n",
            "Asia                2635334228       2144906290  \n",
            "Europe               692527159        655923991  \n",
            "North America        368293361        315434606  \n",
            "Oceania               22920240         19480270  \n",
            "South America        241789006        192947156  \n"
          ]
        }
      ]
    },
    {
      "cell_type": "code",
      "source": [
        "population_columns_new = ['2022 Population', '1970 Population']\n",
        "\n",
        "population_columns_with_continent = ['Continent'] + population_columns_new\n",
        "population_2022_1970 = df[population_columns_with_continent].groupby('Continent').sum()\n",
        "population_2022_1970['Percentage Increase'] = ((population_2022_1970['2022 Population'] - population_2022_1970['1970 Population']) / population_2022_1970['1970 Population']) * 100\n",
        "\n",
        "print(\"Percentage Increase in Population for each continent from 1970 to 2022:\")\n",
        "print(population_2022_1970[['Percentage Increase']])\n"
      ],
      "metadata": {
        "colab": {
          "base_uri": "https://localhost:8080/"
        },
        "id": "HfzLDYVNmKi9",
        "outputId": "38fc4848-3825-4593-83fc-c47332eb1355"
      },
      "execution_count": 45,
      "outputs": [
        {
          "output_type": "stream",
          "name": "stdout",
          "text": [
            "Percentage Increase in Population for each continent from 1970 to 2022:\n",
            "               Percentage Increase\n",
            "Continent                         \n",
            "Africa                  290.409905\n",
            "Asia                    120.120725\n",
            "Europe                   13.297813\n",
            "North America            90.307634\n",
            "Oceania                 131.200871\n",
            "South America           126.391835\n"
          ]
        }
      ]
    },
    {
      "cell_type": "code",
      "source": [
        "africa_population_percentage = (1426730932 / (1426730932 + 4721383274 + 743147538 + 600296136 + 45038554 + 436816608)) * 100\n",
        "asia_population_percentage = (4721383274 / (1426730932 + 4721383274 + 743147538 + 600296136 + 45038554 + 436816608)) * 100\n",
        "europe_population_percentage = (743147538 / (1426730932 + 4721383274 + 743147538 + 600296136 + 45038554 + 436816608)) * 100\n",
        "n_america_population_percentage = (600296136 / (1426730932 + 4721383274 + 743147538 + 600296136 + 45038554 + 436816608)) * 100\n",
        "oceania_population_percentage = (45038554 / (1426730932 + 4721383274 + 743147538 + 600296136 + 45038554 + 436816608)) * 100\n",
        "s_america_population_percentage = (436816608 / (1426730932 + 4721383274 + 743147538 + 600296136 + 45038554 + 436816608)) * 100"
      ],
      "metadata": {
        "id": "WWnUbZx5qZZZ"
      },
      "execution_count": 48,
      "outputs": []
    },
    {
      "cell_type": "code",
      "source": [
        "oceania_population_percentage"
      ],
      "metadata": {
        "colab": {
          "base_uri": "https://localhost:8080/"
        },
        "id": "dge2XVbkq36n",
        "outputId": "90b53cee-877d-4b00-c8fb-2714b0c46ff2"
      },
      "execution_count": 56,
      "outputs": [
        {
          "output_type": "execute_result",
          "data": {
            "text/plain": [
              "0.5648591608481732"
            ]
          },
          "metadata": {},
          "execution_count": 56
        }
      ]
    },
    {
      "cell_type": "markdown",
      "source": [
        "## Summary and Results\n",
        "\n",
        "through the data analysis we were able to discover some statistics from the dataset. we were able to determine the largest populations across the years;\n",
        "\n",
        "China and India remain the top two most populated countries throughout the years. Inturn, the most populated continent is Asia, again across all years.\n",
        "\n",
        "From 1970 to 2022 Africa's population increased by 290% followed by Oceania whos increased by 131% whilst Europe's only increased 13% over the years.\n",
        "\n",
        "finally, Asia's population accounts to 59.21% of the global population in 2022, followed by Africa's with 17.89% whilst Oceania accounts for the lowest portion of the global population accounting for 0.56% of the global populaiton.\n"
      ],
      "metadata": {
        "id": "KnpiR64jnCAe"
      }
    },
    {
      "cell_type": "code",
      "source": [],
      "metadata": {
        "id": "vkXZqRQ0sd73"
      },
      "execution_count": null,
      "outputs": []
    }
  ]
}